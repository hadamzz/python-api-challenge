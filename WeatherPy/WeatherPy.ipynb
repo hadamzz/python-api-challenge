{
 "cells": [
  {
   "cell_type": "markdown",
   "metadata": {},
   "source": [
    "# WeatherPy\n",
    "----\n",
    "\n",
    "#### Note\n",
    "* Instructions have been included for each segment. You do not have to follow them exactly, but they are included to help you think through the steps."
   ]
  },
  {
   "cell_type": "code",
   "execution_count": 21,
   "metadata": {
    "scrolled": true
   },
   "outputs": [],
   "source": [
    "# Dependencies and Setup\n",
    "import matplotlib.pyplot as plt\n",
    "import pandas as pd\n",
    "import numpy as np\n",
    "import requests\n",
    "import time\n",
    "from scipy.stats import linregress\n",
    "from pprint import pprint\n",
    "import json as json\n",
    "from numpy.polynomial.polynomial import polyfit\n",
    "\n",
    "# Import API key\n",
    "from api_keys import weather_api_key\n",
    "\n",
    "# Incorporated citipy to determine city based on latitude and longitude\n",
    "from citipy import citipy\n",
    "\n",
    "# Output File (CSV)\n",
    "output_data_file = \"output_data/cities.csv\"\n",
    "\n",
    "# Range of latitudes and longitudes\n",
    "lat_range = (-90, 90)\n",
    "lng_range = (-180, 180)"
   ]
  },
  {
   "cell_type": "markdown",
   "metadata": {},
   "source": [
    "## Generate Cities List"
   ]
  },
  {
   "cell_type": "code",
   "execution_count": 2,
   "metadata": {},
   "outputs": [
    {
     "data": {
      "text/plain": [
       "623"
      ]
     },
     "execution_count": 2,
     "metadata": {},
     "output_type": "execute_result"
    }
   ],
   "source": [
    "# List for holding lat_lngs and cities\n",
    "lat_lngs = []\n",
    "cities = []\n",
    "\n",
    "# Create a set of random lat and lng combinations\n",
    "lats = np.random.uniform(lat_range[0], lat_range[1], size=1500)\n",
    "lngs = np.random.uniform(lng_range[0], lng_range[1], size=1500)\n",
    "lat_lngs = zip(lats, lngs)\n",
    "\n",
    "# Identify nearest city for each lat, lng combination\n",
    "for lat_lng in lat_lngs:\n",
    "    city = citipy.nearest_city(lat_lng[0], lat_lng[1]).city_name\n",
    "    \n",
    "    # If the city is unique, then add it to a our cities list\n",
    "    if city not in cities:\n",
    "        cities.append(city)\n",
    "\n",
    "# Print the city count to confirm sufficient count\n",
    "len(cities)"
   ]
  },
  {
   "cell_type": "markdown",
   "metadata": {},
   "source": [
    "### Perform API Calls\n",
    "* Perform a weather check on each city using a series of successive API calls.\n",
    "* Include a print log of each city as it'sbeing processed (with the city number and city name).\n"
   ]
  },
  {
   "cell_type": "code",
   "execution_count": 3,
   "metadata": {},
   "outputs": [
    {
     "name": "stdout",
     "output_type": "stream",
     "text": [
      "{\n",
      "    \"coord\": {\n",
      "        \"lon\": 25.5701,\n",
      "        \"lat\": -33.918\n",
      "    },\n",
      "    \"weather\": [\n",
      "        {\n",
      "            \"id\": 802,\n",
      "            \"main\": \"Clouds\",\n",
      "            \"description\": \"scattered clouds\",\n",
      "            \"icon\": \"03n\"\n",
      "        }\n",
      "    ],\n",
      "    \"base\": \"stations\",\n",
      "    \"main\": {\n",
      "        \"temp\": 63.1,\n",
      "        \"feels_like\": 63.39,\n",
      "        \"temp_min\": 63.1,\n",
      "        \"temp_max\": 63.1,\n",
      "        \"pressure\": 1017,\n",
      "        \"humidity\": 91,\n",
      "        \"sea_level\": 1017,\n",
      "        \"grnd_level\": 1012\n",
      "    },\n",
      "    \"visibility\": 10000,\n",
      "    \"wind\": {\n",
      "        \"speed\": 4.34,\n",
      "        \"deg\": 259,\n",
      "        \"gust\": 4.65\n",
      "    },\n",
      "    \"clouds\": {\n",
      "        \"all\": 45\n",
      "    },\n",
      "    \"dt\": 1666577340,\n",
      "    \"sys\": {\n",
      "        \"type\": 2,\n",
      "        \"id\": 2035063,\n",
      "        \"country\": \"ZA\",\n",
      "        \"sunrise\": 1666581938,\n",
      "        \"sunset\": 1666629478\n",
      "    },\n",
      "    \"timezone\": 7200,\n",
      "    \"id\": 964420,\n",
      "    \"name\": \"Port Elizabeth\",\n",
      "    \"cod\": 200\n",
      "}\n"
     ]
    }
   ],
   "source": [
    "# Open Weather API Call\n",
    "url = \"http://api.openweathermap.org/data/2.5/weather?\"\n",
    "units = \"imperial\"\n",
    "query_url = f\"{url}appid={weather_api_key}&units={units}&q=\"\n",
    "\n",
    "response = requests.get(query_url + city)\n",
    "response_json = response.json()\n",
    "print(json.dumps(response_json, indent=4))"
   ]
  },
  {
   "cell_type": "code",
   "execution_count": 4,
   "metadata": {},
   "outputs": [
    {
     "name": "stdout",
     "output_type": "stream",
     "text": [
      "City number 1 | Rikitea\n",
      "City number 2 | Vaini\n",
      "City number 3 | Albany\n",
      "City number 4 | George Town\n",
      "City number 5 | Puerto Ayora\n",
      "City number 6 | Yulara\n",
      "City number 7 | Chokurdakh\n",
      "City number 8 | Bredasdorp\n",
      "City number 9 | Provideniya\n",
      "City not found. Skipping...\n",
      "City not found. Skipping...\n",
      "City number 10 | Torbay\n",
      "City number 11 | Kumul\n",
      "City number 12 | Upernavik\n",
      "City number 13 | Bethel\n",
      "City number 14 | Jamestown\n",
      "City number 15 | Ribeira Grande\n",
      "City not found. Skipping...\n",
      "City number 16 | Hervey Bay\n",
      "City number 17 | Dikson\n",
      "City number 18 | Carnarvon\n",
      "City number 19 | Hermanus\n",
      "City number 20 | Geraldton\n",
      "City not found. Skipping...\n",
      "City number 21 | Nipawin\n",
      "City number 22 | Alofi\n",
      "City number 23 | Goundam\n",
      "City number 24 | Lebu\n",
      "City number 25 | Ilulissat\n",
      "City number 26 | Severo-Kuril'sk\n",
      "City number 27 | Cidreira\n",
      "City number 28 | Yellowknife\n",
      "City number 29 | Chui\n",
      "City number 30 | Ushuaia\n",
      "City number 31 | Torit\n",
      "City not found. Skipping...\n",
      "City number 32 | Saint-Philippe\n",
      "City number 33 | Meulaboh\n",
      "City number 34 | Cuenca\n",
      "City number 35 | Leningradskiy\n",
      "City number 36 | Punta Arenas\n",
      "City number 37 | Atuona\n",
      "City number 38 | Cintalapa\n",
      "City number 39 | Butaritari\n",
      "City number 40 | Mahébourg\n",
      "City number 41 | San Andrés\n",
      "City number 42 | Hamina\n",
      "City number 43 | Lavrentiya\n",
      "City number 44 | Cape Town\n",
      "City number 45 | Barrow\n",
      "City number 46 | Corinth\n",
      "City number 47 | Katangli\n",
      "City number 48 | Saskylakh\n",
      "City number 49 | Kamuli\n",
      "City number 50 | Longyearbyen\n",
      "City number 51 | Pangnirtung\n",
      "City number 52 | Avera\n",
      "City number 53 | Norman Wells\n",
      "City number 54 | Ende\n",
      "City number 55 | Kouango\n",
      "City number 56 | Wanning\n",
      "City number 57 | Togur\n",
      "City number 58 | Constitución\n",
      "City number 59 | Twentynine Palms\n",
      "City number 60 | Poum\n",
      "City number 61 | Gari\n",
      "City number 62 | Hambantota\n",
      "City number 63 | Guerrero Negro\n",
      "City number 64 | El Obraje\n",
      "City number 65 | Biak\n",
      "City number 66 | Saint George\n",
      "City number 67 | Mataura\n",
      "City number 68 | Khatanga\n",
      "City number 69 | Adrar\n",
      "City number 70 | Road Town\n",
      "City number 71 | Arauca\n",
      "City number 72 | Haverfordwest\n",
      "City number 73 | Cravo Norte\n",
      "City number 74 | Korla\n",
      "City number 75 | Hobart\n",
      "City number 76 | Manuk Mangkaw\n",
      "City number 77 | San Patricio\n",
      "City number 78 | Gizo Government Station\n",
      "City number 79 | Hithadhoo\n",
      "City number 80 | Tasiilaq\n",
      "City number 81 | Tuktoyaktuk\n",
      "City number 82 | Mar del Plata\n",
      "City number 83 | Castro\n",
      "City number 84 | Jaisalmer\n",
      "City number 85 | Seoul\n",
      "City number 86 | Hong Kong\n",
      "City number 87 | Hermiston\n",
      "City not found. Skipping...\n",
      "City number 88 | Cherskiy\n",
      "City not found. Skipping...\n",
      "City number 89 | Cockburn Town\n",
      "City number 90 | Ziyang\n",
      "City number 91 | Caucayá\n",
      "City number 92 | Berlevåg\n",
      "City number 93 | Kavieng\n",
      "City number 94 | Busselton\n",
      "City number 95 | Souillac\n",
      "City number 96 | Gallup\n",
      "City number 97 | Broome\n",
      "City number 98 | Esperance\n",
      "City not found. Skipping...\n",
      "City number 99 | Shingū\n",
      "City number 100 | Tocopilla\n",
      "City number 101 | Kendari\n",
      "City number 102 | Sur\n",
      "City number 103 | Muzhi\n",
      "City number 104 | Gelibolu\n",
      "City number 105 | East London\n",
      "City number 106 | Zolotukhino\n",
      "City number 107 | Kaitangata\n",
      "City number 108 | Nexø\n",
      "City number 109 | Nikolskoye\n",
      "City number 110 | Vestmanna\n",
      "City number 111 | Hofn\n",
      "City number 112 | Juba\n",
      "City number 113 | Bluff\n",
      "City number 114 | Pangkalanbuun\n",
      "City number 115 | Assiniboia\n",
      "City number 116 | Baruun-Urt\n",
      "City not found. Skipping...\n",
      "City number 117 | Natitingou\n",
      "City number 118 | Ketchikan\n",
      "City number 119 | Bairiki Village\n",
      "City number 120 | Kallaste\n",
      "City number 121 | La Cruz\n",
      "City number 122 | Pokhara\n",
      "City number 123 | Padang\n",
      "City not found. Skipping...\n",
      "City number 124 | San Vicente\n",
      "City number 125 | Rocha\n",
      "City number 126 | Khor\n",
      "City number 127 | Arraial do Cabo\n",
      "City number 128 | Airai\n",
      "City number 129 | College\n",
      "City number 130 | Hilo\n",
      "City number 131 | Tarn Taran\n",
      "City number 132 | Port Alfred\n",
      "City number 133 | Qaanaaq\n",
      "City number 134 | Kapaa\n",
      "City not found. Skipping...\n",
      "City number 135 | Tura\n",
      "City number 136 | Thinadhoo\n",
      "City number 137 | Zhob\n",
      "City number 138 | Fendou\n",
      "City number 139 | Urucará\n",
      "City number 140 | Lagoa\n",
      "City number 141 | Stranda\n",
      "City number 142 | Touros\n",
      "City number 143 | Masallātah\n",
      "City number 144 | Anklam\n",
      "City not found. Skipping...\n",
      "City number 145 | San Juan\n",
      "City number 146 | Huarmey\n",
      "City number 147 | Avarua\n",
      "City number 148 | Kantyshevo\n",
      "City number 149 | Havelock\n",
      "City number 150 | Rock Sound\n",
      "City number 151 | Codrington\n",
      "City number 152 | Faanui\n",
      "City number 153 | Pauini\n",
      "City number 154 | Nelson\n",
      "City number 155 | Cabo San Lucas\n",
      "City number 156 | Lircay\n",
      "City number 157 | Bairnsdale\n",
      "City number 158 | Udachny\n",
      "City number 159 | Hohoe\n",
      "City number 160 | Manggar\n",
      "City number 161 | Wuda\n",
      "City number 162 | Cassilândia\n",
      "City number 163 | Khandyga\n",
      "City number 164 | Jāwā\n",
      "City not found. Skipping...\n",
      "City number 165 | Aykhal\n",
      "City number 166 | Ponta do Sol\n",
      "City number 167 | Severo-Yeniseyskiy\n",
      "City number 168 | Emerald\n",
      "City number 169 | Los Llanos de Aridane\n",
      "City number 170 | Yanaul\n",
      "City not found. Skipping...\n",
      "City number 171 | Barillas\n",
      "City number 172 | Mbini\n",
      "City number 173 | Marsh Harbour\n",
      "City number 174 | Denpasar\n",
      "City number 175 | Paita\n",
      "City number 176 | Santiago de Cao\n",
      "City number 177 | New Norfolk\n",
      "City number 178 | Lüderitz\n",
      "City number 179 | Phan Thiet\n",
      "City number 180 | Saint-Pierre\n",
      "City not found. Skipping...\n",
      "City number 181 | Opuwo\n",
      "City not found. Skipping...\n",
      "City number 182 | Abu Samrah\n",
      "City number 183 | Pisco\n",
      "City number 184 | Horana\n",
      "City number 185 | Olinda\n",
      "City number 186 | Zharkovskiy\n",
      "City number 187 | Pinawa\n",
      "City number 188 | Sørland\n",
      "City number 189 | Shihezi\n",
      "City number 190 | Alenquer\n",
      "City number 191 | Faya\n",
      "City number 192 | Bakreswar\n",
      "City number 193 | Orange Cove\n",
      "City number 194 | Tiksi\n",
      "City number 195 | Saint Paul Harbor\n",
      "City number 196 | Labuhan\n",
      "City number 197 | Mount Vernon\n",
      "City number 198 | Vao\n",
      "City number 199 | São João dos Patos\n",
      "City number 200 | Presidente Médici\n",
      "City number 201 | Lata\n",
      "City number 202 | Iqaluit\n",
      "City number 203 | Villa Carlos Paz\n",
      "City not found. Skipping...\n",
      "City number 204 | Puerto Escondido\n",
      "City number 205 | Bereznehuvate\n",
      "City number 206 | Sobolevo\n",
      "City number 207 | Te Anau\n",
      "City number 208 | Umluj\n",
      "City number 209 | Fortuna\n",
      "City number 210 | Malumfashi\n",
      "City number 211 | Ust-Nera\n",
      "City number 212 | Mount Gambier\n",
      "City not found. Skipping...\n",
      "City number 213 | St. George's\n",
      "City number 214 | Lukulu\n",
      "City number 215 | Klaksvík\n",
      "City number 216 | Sikasso\n",
      "City number 217 | Thompson\n",
      "City number 218 | Shenjiamen\n",
      "City number 219 | Flinders\n",
      "City number 220 | Naze\n",
      "City number 221 | Gravdal\n",
      "City number 222 | Fort Nelson\n",
      "City not found. Skipping...\n",
      "City number 223 | Derzhavīnsk\n",
      "City number 224 | Maridi\n",
      "City number 225 | Aquiraz\n",
      "City not found. Skipping...\n",
      "City number 226 | Two Rivers\n",
      "City number 227 | La Baule-Escoublac\n",
      "City number 228 | Vila Velha\n",
      "City number 229 | Madawaska\n",
      "City number 230 | Moba\n",
      "City number 231 | Manohar Thāna\n",
      "City number 232 | Bonthe\n",
      "City number 233 | Havre-St-Pierre\n",
      "City not found. Skipping...\n",
      "City number 234 | Jega\n",
      "City number 235 | Galesong\n",
      "City number 236 | Nabire\n",
      "City number 237 | Cukai\n",
      "City not found. Skipping...\n",
      "City number 238 | Palu\n",
      "City number 239 | Salalah\n",
      "City number 240 | Bambous Virieux\n",
      "City number 241 | Maputo\n",
      "City number 242 | Luanda\n",
      "City number 243 | Ngerengere\n",
      "City number 244 | Cervo\n",
      "City not found. Skipping...\n",
      "City number 245 | Portland\n",
      "City number 246 | Steinbach am Taunus\n",
      "City number 247 | Cedro\n",
      "City number 248 | Wajima\n",
      "City number 249 | Honningsvåg\n",
      "City number 250 | Kulhudhuffushi\n",
      "City number 251 | Katsuura\n",
      "City number 252 | Griffith\n",
      "City number 253 | Price\n",
      "City number 254 | Aklavik\n",
      "City number 255 | Port Antonio\n",
      "City number 256 | Jianning\n",
      "City number 257 | Jumla\n",
      "City number 258 | Yangi Marg`ilon\n",
      "City number 259 | Daudnagar\n",
      "City number 260 | Vila do Maio\n",
      "City number 261 | Berdigestyakh\n",
      "City number 262 | Palana\n",
      "City number 263 | Oranjemund\n",
      "City number 264 | Makkah al Mukarramah\n",
      "City not found. Skipping...\n",
      "City number 265 | Krasnosel'kup\n",
      "City number 266 | Lar\n",
      "City number 267 | Port Elizabeth\n",
      "City not found. Skipping...\n",
      "City not found. Skipping...\n",
      "City number 268 | Kysyl-Syr\n",
      "City number 269 | Smolenka\n",
      "City number 270 | Qinhuangdao\n",
      "City number 271 | Atar\n",
      "City number 272 | Kahului\n",
      "City number 273 | Sinegor'ye\n",
      "City number 274 | Morón\n",
      "City number 275 | Necochea\n"
     ]
    },
    {
     "name": "stdout",
     "output_type": "stream",
     "text": [
      "City number 276 | Westport\n",
      "City number 277 | Bilibino\n",
      "City number 278 | Wuwei\n",
      "City number 279 | Laas\n",
      "City not found. Skipping...\n",
      "City number 280 | Cairns\n",
      "City number 281 | Trairi\n",
      "City number 282 | Hay River\n",
      "City number 283 | Mil'kovo\n",
      "City number 284 | San Miguel de Cozumel\n",
      "City number 285 | Nhulunbuy\n",
      "City number 286 | Palmer\n",
      "City number 287 | Baghdad\n",
      "City number 288 | Sola\n",
      "City number 289 | Mackay\n",
      "City number 290 | Cayenne\n",
      "City number 291 | Huntsville\n",
      "City number 292 | Verkhoyansk\n",
      "City number 293 | Maracaçumé\n",
      "City number 294 | São Félix do Xingu\n",
      "City number 295 | Atasū\n",
      "City number 296 | Quryq\n",
      "City number 297 | Taoudenni\n",
      "City number 298 | Rome\n",
      "City not found. Skipping...\n",
      "City number 299 | Jām Sāhib\n",
      "City number 300 | Anchorage\n",
      "City number 301 | Port Hardy\n",
      "City number 302 | Nemuro\n",
      "City number 303 | Ancud\n",
      "City number 304 | Bilma\n",
      "City number 305 | Narsaq\n",
      "City number 306 | Mumford\n",
      "City number 307 | Ciudad Bolivar\n",
      "City not found. Skipping...\n",
      "City number 308 | Grindavik\n",
      "City number 309 | Plettenberg Bay\n",
      "City number 310 | Krasnyy Yar\n",
      "City number 311 | Tarutyne\n",
      "City number 312 | Ixtapa\n",
      "City number 313 | Sitka\n",
      "City number 314 | Casablanca\n",
      "City number 315 | Bima\n",
      "City number 316 | Rodrigues Alves\n",
      "City number 317 | Alice Springs\n",
      "City number 318 | Puerto Madryn\n",
      "City number 319 | Khani\n",
      "City number 320 | Pahrump\n",
      "City number 321 | Honiara\n",
      "City number 322 | Ostrovnoy\n",
      "City not found. Skipping...\n",
      "City number 323 | Port Blair\n",
      "City number 324 | Camacha\n",
      "City number 325 | Namatanai\n",
      "City number 326 | Itarema\n",
      "City number 327 | Poli\n",
      "City number 328 | Alpena\n",
      "City number 329 | Lianzhou\n",
      "City number 330 | Trani\n",
      "City number 331 | Santa Lucía\n",
      "City number 332 | Pevek\n",
      "City number 333 | Vanimo\n",
      "City number 334 | Karratha\n",
      "City not found. Skipping...\n",
      "City number 335 | São Filipe\n",
      "City number 336 | Libertador General San Martín\n",
      "City number 337 | Camargo\n",
      "City number 338 | Bisira\n",
      "City number 339 | Stara Vyzhivka\n",
      "City number 340 | Nicoya\n",
      "City number 341 | Cap-Chat\n",
      "City number 342 | Kwinana\n",
      "City number 343 | Lappeenranta\n",
      "City number 344 | Ahar\n",
      "City number 345 | Davila\n",
      "City number 346 | Harpālpur\n",
      "City number 347 | Malārd\n",
      "City not found. Skipping...\n",
      "City number 348 | Luba\n",
      "City number 349 | Bengkulu\n",
      "City not found. Skipping...\n",
      "City number 350 | Wamba\n",
      "City not found. Skipping...\n",
      "City number 351 | Casper\n",
      "City not found. Skipping...\n",
      "City number 352 | Barre\n",
      "City number 353 | Beringovskiy\n",
      "City not found. Skipping...\n",
      "City number 354 | Zherdevka\n",
      "City number 355 | Muhafazat Lahij\n",
      "City not found. Skipping...\n",
      "City number 356 | Muros\n",
      "City number 357 | Harper\n",
      "City number 358 | Kalemie\n",
      "City number 359 | Garden City\n",
      "City number 360 | Laguna\n",
      "City not found. Skipping...\n",
      "City not found. Skipping...\n",
      "City number 361 | Talnakh\n",
      "City number 362 | Kjøllefjord\n",
      "City number 363 | Zunyi\n",
      "City number 364 | Santa Isabel Rio Negro\n",
      "City number 365 | Kruisfontein\n",
      "City number 366 | Arona\n",
      "City not found. Skipping...\n",
      "City number 367 | Port Lincoln\n",
      "City number 368 | Arrondissement de Montauban\n",
      "City number 369 | Makakilo City\n",
      "City number 370 | Viranşehir\n",
      "City number 371 | Ginir\n",
      "City number 372 | Vrangel'\n",
      "City number 373 | Lompoc\n",
      "City not found. Skipping...\n",
      "City number 374 | Gaza\n",
      "City number 375 | La Libertad\n",
      "City number 376 | Suntar\n",
      "City number 377 | Sharjah city\n",
      "City number 378 | Asău\n",
      "City number 379 | Burnie\n",
      "City number 380 | Guaiúba\n",
      "City number 381 | Cap-aux-Meules\n",
      "City number 382 | Krasnoturansk\n",
      "City number 383 | Leshukonskoye\n",
      "City number 384 | Wewak\n",
      "City number 385 | Kazachinskoye\n",
      "City number 386 | Agía Galíni\n",
      "City number 387 | Port Hedland\n",
      "City not found. Skipping...\n",
      "City number 388 | Kondinskoye\n",
      "City number 389 | Datong\n",
      "City number 390 | Gorontalo\n",
      "City number 391 | Mazamari\n",
      "City number 392 | Vostok\n",
      "City number 393 | Mercedes\n",
      "City number 394 | Neiafu\n",
      "City number 395 | Port Macquarie\n",
      "City number 396 | Takoradze\n",
      "City number 397 | Volokolamsk\n",
      "City number 398 | Zhuanghe\n",
      "City not found. Skipping...\n",
      "City number 399 | Kerewan\n",
      "City number 400 | Cap Malheureux\n",
      "City number 401 | Abéché\n",
      "City number 402 | Saint-François\n",
      "City number 403 | Kuah\n",
      "City number 404 | Matai\n",
      "City number 405 | Loukhi\n",
      "City number 406 | Quelimane\n",
      "City number 407 | Clyde River\n",
      "City number 408 | Banda Aceh\n",
      "City number 409 | Byron Bay\n",
      "City number 410 | City of San Pedro\n",
      "City number 411 | Wexford\n",
      "City number 412 | Pedasí\n",
      "City number 413 | Yārāda\n",
      "City number 414 | Bonfim\n",
      "City number 415 | Tezu\n",
      "City number 416 | Løjt Kirkeby\n",
      "City not found. Skipping...\n",
      "City number 417 | Saint-Augustin\n",
      "City number 418 | Maryville\n",
      "City number 419 | Beyneu\n",
      "City number 420 | Isiro\n",
      "City number 421 | Waipawa\n",
      "City number 422 | Ndélé\n",
      "City not found. Skipping...\n",
      "City number 423 | Kaeo\n",
      "City number 424 | Boende\n",
      "City number 425 | Arkhipo-Osipovka\n",
      "City number 426 | Ponta Delgada\n",
      "City number 427 | Aktas\n",
      "City number 428 | Liuhe\n",
      "City number 429 | Barra do Garças\n",
      "City number 430 | Tandaltī\n",
      "City number 431 | Sinnamary\n",
      "City not found. Skipping...\n",
      "City number 432 | Ballina\n",
      "City number 433 | Soyo\n",
      "City number 434 | Nichinan\n",
      "City not found. Skipping...\n",
      "City not found. Skipping...\n",
      "City number 435 | Djibouti\n",
      "City number 436 | Fougamou\n",
      "City number 437 | Yumen\n",
      "City number 438 | Staphorst\n",
      "City number 439 | Zhuhai\n",
      "City number 440 | Luwuk\n",
      "City number 441 | Aden\n",
      "City number 442 | Ampanihy\n",
      "City number 443 | Oktyabr'skoye\n",
      "City number 444 | Viramgam\n",
      "City number 445 | Dingle\n",
      "City number 446 | Bathsheba\n",
      "City number 447 | Toktogul\n",
      "City number 448 | Pangai\n",
      "City number 449 | Manga\n",
      "City number 450 | Ndjolé\n",
      "City number 451 | Ţahţā\n",
      "City not found. Skipping...\n",
      "City number 452 | Puerto El Triunfo\n",
      "City number 453 | Chaves\n",
      "City number 454 | Tadine\n",
      "City number 455 | Zagora\n",
      "City number 456 | Vershino-Darasunskiy\n",
      "City number 457 | Alençon\n",
      "City number 458 | Papar\n",
      "City number 459 | Sioux Lookout\n",
      "City number 460 | Trondheim\n",
      "City not found. Skipping...\n",
      "City number 461 | Nosy Varika\n",
      "City number 462 | Pochutla\n",
      "City not found. Skipping...\n",
      "City number 463 | Muli\n",
      "City not found. Skipping...\n",
      "City number 464 | Vardø\n",
      "City number 465 | Abu Dhabi\n",
      "City number 466 | Vila Franca do Campo\n",
      "City number 467 | Araouane\n",
      "City number 468 | Muskegon\n",
      "City number 469 | Nueva Loja\n",
      "City number 470 | Kalāleh\n",
      "City number 471 | Caravelas\n",
      "City number 472 | Martyush\n",
      "City number 473 | Stephenville\n",
      "City number 474 | Rawson\n",
      "City number 475 | Frontera\n",
      "City number 476 | Tshela\n",
      "City number 477 | Ugoofaaru\n",
      "City number 478 | Kuala Terengganu\n",
      "City number 479 | Sayyan\n",
      "City number 480 | Imeni Poliny Osipenko\n",
      "City number 481 | Sabha\n",
      "City number 482 | Kalmunai\n",
      "City number 483 | Sabzawār\n",
      "City number 484 | Werda\n",
      "City number 485 | Chipiona\n",
      "City number 486 | Beloha\n",
      "City number 487 | Vodnyy\n",
      "City number 488 | Monte Patria\n",
      "City number 489 | Guozhen\n",
      "City number 490 | Tonantins\n",
      "City number 491 | Coos Bay\n",
      "City number 492 | Atherton\n",
      "City number 493 | Lingao\n",
      "City number 494 | Hasaki\n",
      "City number 495 | Oranjestad\n",
      "City number 496 | Spiridonovka\n",
      "City number 497 | Forsytheganj\n",
      "City number 498 | Raahe\n",
      "City number 499 | Hattiesburg\n",
      "City number 500 | Ulaangom\n",
      "City number 501 | Quatre Cocos\n",
      "City number 502 | Clarence Town\n",
      "City number 503 | Rock Springs\n",
      "City number 504 | Baykit\n",
      "City number 505 | Natchitoches\n",
      "City not found. Skipping...\n",
      "City number 506 | Agadez\n",
      "City number 507 | Praia da Vitória\n",
      "City number 508 | Polyarny\n",
      "City not found. Skipping...\n",
      "City number 509 | Galle\n",
      "City number 510 | Verkhnevilyuysk\n",
      "City number 511 | Eilat\n",
      "City number 512 | Margate\n",
      "City not found. Skipping...\n",
      "City number 513 | Visby\n",
      "City number 514 | Kralendijk\n",
      "City number 515 | Andilamena\n",
      "City number 516 | San Cristobal\n",
      "City number 517 | Mount Isa\n",
      "City number 518 | Coquimbo\n",
      "City number 519 | Conde\n",
      "City number 520 | Sabang\n",
      "City number 521 | Kargasok\n",
      "City number 522 | Acajutla\n",
      "City number 523 | Den Helder\n",
      "City number 524 | Macas\n",
      "City number 525 | Hīt\n",
      "City number 526 | Khowst\n",
      "City number 527 | Chara\n",
      "City number 528 | Yantal'\n",
      "City number 529 | Berbera\n",
      "City number 530 | Kenai\n",
      "City not found. Skipping...\n",
      "City number 531 | Mayo\n",
      "City number 532 | Cittadella\n",
      "City number 533 | San Rafael\n",
      "City number 534 | Riyadh\n",
      "City number 535 | Mishelevka\n",
      "City number 536 | Clearwater\n",
      "City number 537 | Hobyo\n",
      "City not found. Skipping...\n",
      "City number 538 | Oistins\n",
      "City number 539 | Cupşeni\n",
      "City number 540 | Yinchuan\n",
      "City number 541 | Okhotsk\n",
      "City not found. Skipping...\n"
     ]
    },
    {
     "name": "stdout",
     "output_type": "stream",
     "text": [
      "City number 542 | San Fernando del Valle de Catamarca\n",
      "City number 543 | Camapuã\n",
      "City number 544 | Saint-Joseph\n",
      "City number 545 | Council Bluffs\n",
      "City number 546 | Kungurtug\n",
      "City number 547 | Balatonszárszó\n",
      "City number 548 | Kavaratti\n",
      "City number 549 | Nara\n",
      "City number 550 | Yurgamysh\n",
      "City not found. Skipping...\n",
      "City number 551 | Koumac\n",
      "City number 552 | Malaya Serdoba\n",
      "City number 553 | Dukat\n",
      "City not found. Skipping...\n",
      "City number 554 | Leku\n",
      "City number 555 | Camaná\n",
      "City number 556 | Kitob\n",
      "City number 557 | Yangambi\n",
      "City not found. Skipping...\n",
      "City number 558 | Isangel\n",
      "City number 559 | Severnoye\n",
      "City number 560 | Ayan\n",
      "City number 561 | Celestún\n",
      "City number 562 | Wilmington Island\n"
     ]
    }
   ],
   "source": [
    "# Lists\n",
    "city_name = []\n",
    "country = []\n",
    "date = []\n",
    "latitude = []\n",
    "longitude = []\n",
    "temp = []\n",
    "max_temp = []\n",
    "humidity = []\n",
    "cloudiness = []\n",
    "wind_speed = []\n",
    "\n",
    "# Counter\n",
    "city_number = 1\n",
    "\n",
    "\n",
    "\n",
    "# Loop\n",
    "for city in cities:\n",
    "\n",
    "# Exception\n",
    "    try:\n",
    "        response = requests.get(query_url + city).json()\n",
    "        city_name.append(response[\"name\"])\n",
    "        country.append(response[\"sys\"][\"country\"])\n",
    "        date.append(response[\"dt\"])\n",
    "        latitude.append(response[\"coord\"][\"lat\"])\n",
    "        longitude.append(response[\"coord\"][\"lon\"])\n",
    "        temp.append(response[\"main\"][\"temp\"])\n",
    "        max_temp.append(response[\"main\"][\"temp_max\"])\n",
    "        humidity.append(response[\"main\"][\"humidity\"])\n",
    "        cloudiness.append(response[\"clouds\"][\"all\"])\n",
    "        wind_speed.append(response[\"wind\"][\"speed\"])\n",
    "        city_record = response[\"name\"]\n",
    "        print(f\"City number {city_number} | {city_record}\")\n",
    "        \n",
    "        # Next city\n",
    "        city_number += 1\n",
    "        \n",
    "    except:\n",
    "        print(\"City not found. Skipping...\") \n",
    "    continue\n",
    "\n"
   ]
  },
  {
   "cell_type": "markdown",
   "metadata": {},
   "source": [
    "### Convert Raw Data to DataFrame\n",
    "* Export the city data into a .csv.\n",
    "* Display the DataFrame"
   ]
  },
  {
   "cell_type": "code",
   "execution_count": 7,
   "metadata": {},
   "outputs": [
    {
     "data": {
      "text/plain": [
       "City           562\n",
       "Country        562\n",
       "Date           562\n",
       "Latitude       562\n",
       "Longitude      562\n",
       "Temperature    562\n",
       "Max Temp       562\n",
       "Humidity       562\n",
       "Cloudiness     562\n",
       "Wind Speed     562\n",
       "dtype: int64"
      ]
     },
     "execution_count": 7,
     "metadata": {},
     "output_type": "execute_result"
    }
   ],
   "source": [
    "weather_data = {\n",
    "    \"City\": city_name,\n",
    "    \"Country\": country,\n",
    "    \"Date\": date,\n",
    "    \"Latitude\": latitude,\n",
    "    \"Longitude\": longitude,\n",
    "    \"Temperature\": temp,\n",
    "    \"Max Temp\" : max_temp,\n",
    "    \"Humidity\": humidity,\n",
    "    \"Cloudiness\": cloudiness,\n",
    "    \"Wind Speed\": wind_speed\n",
    "}\n",
    "\n",
    "weather_df = pd.DataFrame(weather_data)\n",
    "weather_df.count()"
   ]
  },
  {
   "cell_type": "code",
   "execution_count": 8,
   "metadata": {},
   "outputs": [
    {
     "data": {
      "text/html": [
       "<div>\n",
       "<style scoped>\n",
       "    .dataframe tbody tr th:only-of-type {\n",
       "        vertical-align: middle;\n",
       "    }\n",
       "\n",
       "    .dataframe tbody tr th {\n",
       "        vertical-align: top;\n",
       "    }\n",
       "\n",
       "    .dataframe thead th {\n",
       "        text-align: right;\n",
       "    }\n",
       "</style>\n",
       "<table border=\"1\" class=\"dataframe\">\n",
       "  <thead>\n",
       "    <tr style=\"text-align: right;\">\n",
       "      <th></th>\n",
       "      <th>City</th>\n",
       "      <th>Country</th>\n",
       "      <th>Date</th>\n",
       "      <th>Latitude</th>\n",
       "      <th>Longitude</th>\n",
       "      <th>Temperature</th>\n",
       "      <th>Max Temp</th>\n",
       "      <th>Humidity</th>\n",
       "      <th>Cloudiness</th>\n",
       "      <th>Wind Speed</th>\n",
       "    </tr>\n",
       "  </thead>\n",
       "  <tbody>\n",
       "    <tr>\n",
       "      <th>0</th>\n",
       "      <td>Rikitea</td>\n",
       "      <td>PF</td>\n",
       "      <td>1666577219</td>\n",
       "      <td>-23.1203</td>\n",
       "      <td>-134.9692</td>\n",
       "      <td>73.11</td>\n",
       "      <td>73.11</td>\n",
       "      <td>82</td>\n",
       "      <td>76</td>\n",
       "      <td>12.41</td>\n",
       "    </tr>\n",
       "    <tr>\n",
       "      <th>1</th>\n",
       "      <td>Vaini</td>\n",
       "      <td>TO</td>\n",
       "      <td>1666577210</td>\n",
       "      <td>-21.2000</td>\n",
       "      <td>-175.2000</td>\n",
       "      <td>77.16</td>\n",
       "      <td>77.16</td>\n",
       "      <td>65</td>\n",
       "      <td>20</td>\n",
       "      <td>14.97</td>\n",
       "    </tr>\n",
       "    <tr>\n",
       "      <th>2</th>\n",
       "      <td>Albany</td>\n",
       "      <td>US</td>\n",
       "      <td>1666577106</td>\n",
       "      <td>42.6001</td>\n",
       "      <td>-73.9662</td>\n",
       "      <td>50.67</td>\n",
       "      <td>52.54</td>\n",
       "      <td>82</td>\n",
       "      <td>100</td>\n",
       "      <td>1.92</td>\n",
       "    </tr>\n",
       "    <tr>\n",
       "      <th>3</th>\n",
       "      <td>George Town</td>\n",
       "      <td>MY</td>\n",
       "      <td>1666577209</td>\n",
       "      <td>5.4112</td>\n",
       "      <td>100.3354</td>\n",
       "      <td>82.53</td>\n",
       "      <td>84.13</td>\n",
       "      <td>78</td>\n",
       "      <td>20</td>\n",
       "      <td>0.00</td>\n",
       "    </tr>\n",
       "    <tr>\n",
       "      <th>4</th>\n",
       "      <td>Puerto Ayora</td>\n",
       "      <td>EC</td>\n",
       "      <td>1666577321</td>\n",
       "      <td>-0.7393</td>\n",
       "      <td>-90.3518</td>\n",
       "      <td>66.54</td>\n",
       "      <td>66.54</td>\n",
       "      <td>87</td>\n",
       "      <td>82</td>\n",
       "      <td>5.99</td>\n",
       "    </tr>\n",
       "  </tbody>\n",
       "</table>\n",
       "</div>"
      ],
      "text/plain": [
       "           City Country        Date  Latitude  Longitude  Temperature  \\\n",
       "0       Rikitea      PF  1666577219  -23.1203  -134.9692        73.11   \n",
       "1         Vaini      TO  1666577210  -21.2000  -175.2000        77.16   \n",
       "2        Albany      US  1666577106   42.6001   -73.9662        50.67   \n",
       "3   George Town      MY  1666577209    5.4112   100.3354        82.53   \n",
       "4  Puerto Ayora      EC  1666577321   -0.7393   -90.3518        66.54   \n",
       "\n",
       "   Max Temp  Humidity  Cloudiness  Wind Speed  \n",
       "0     73.11        82          76       12.41  \n",
       "1     77.16        65          20       14.97  \n",
       "2     52.54        82         100        1.92  \n",
       "3     84.13        78          20        0.00  \n",
       "4     66.54        87          82        5.99  "
      ]
     },
     "execution_count": 8,
     "metadata": {},
     "output_type": "execute_result"
    }
   ],
   "source": [
    "weather_df.head()"
   ]
  },
  {
   "cell_type": "code",
   "execution_count": 9,
   "metadata": {},
   "outputs": [],
   "source": [
    "weather_df.to_csv(\"weather_df.csv\")\n"
   ]
  },
  {
   "cell_type": "markdown",
   "metadata": {},
   "source": [
    "## Inspect the data and remove the cities where the humidity > 100%.\n",
    "----\n",
    "Skip this step if there are no cities that have humidity > 100%. "
   ]
  },
  {
   "cell_type": "code",
   "execution_count": 10,
   "metadata": {},
   "outputs": [
    {
     "data": {
      "text/html": [
       "<div>\n",
       "<style scoped>\n",
       "    .dataframe tbody tr th:only-of-type {\n",
       "        vertical-align: middle;\n",
       "    }\n",
       "\n",
       "    .dataframe tbody tr th {\n",
       "        vertical-align: top;\n",
       "    }\n",
       "\n",
       "    .dataframe thead th {\n",
       "        text-align: right;\n",
       "    }\n",
       "</style>\n",
       "<table border=\"1\" class=\"dataframe\">\n",
       "  <thead>\n",
       "    <tr style=\"text-align: right;\">\n",
       "      <th></th>\n",
       "      <th>City</th>\n",
       "      <th>Country</th>\n",
       "      <th>Date</th>\n",
       "      <th>Latitude</th>\n",
       "      <th>Longitude</th>\n",
       "      <th>Temperature</th>\n",
       "      <th>Max Temp</th>\n",
       "      <th>Humidity</th>\n",
       "      <th>Cloudiness</th>\n",
       "      <th>Wind Speed</th>\n",
       "    </tr>\n",
       "  </thead>\n",
       "  <tbody>\n",
       "  </tbody>\n",
       "</table>\n",
       "</div>"
      ],
      "text/plain": [
       "Empty DataFrame\n",
       "Columns: [City, Country, Date, Latitude, Longitude, Temperature, Max Temp, Humidity, Cloudiness, Wind Speed]\n",
       "Index: []"
      ]
     },
     "execution_count": 10,
     "metadata": {},
     "output_type": "execute_result"
    }
   ],
   "source": [
    "humid=weather_df.loc[weather_df['Humidity'] > 100]\n",
    "humid\n",
    "\n",
    "# NO CITIES WITH HUMIDITY OVER 100%"
   ]
  },
  {
   "cell_type": "code",
   "execution_count": 11,
   "metadata": {},
   "outputs": [],
   "source": [
    "#  Get the indices of cities that have humidity over 100%.\n"
   ]
  },
  {
   "cell_type": "code",
   "execution_count": 12,
   "metadata": {},
   "outputs": [],
   "source": [
    "# Make a new DataFrame equal to the city data to drop all humidity outliers by index.\n",
    "# Passing \"inplace=False\" will make a copy of the city_data DataFrame, which we call \"clean_city_data\".\n"
   ]
  },
  {
   "cell_type": "code",
   "execution_count": null,
   "metadata": {},
   "outputs": [],
   "source": [
    "\n"
   ]
  },
  {
   "cell_type": "markdown",
   "metadata": {},
   "source": [
    "## Plotting the Data\n",
    "* Use proper labeling of the plots using plot titles (including date of analysis) and axes labels.\n",
    "* Save the plotted figures as .pngs."
   ]
  },
  {
   "cell_type": "markdown",
   "metadata": {},
   "source": [
    "## Latitude vs. Temperature Plot"
   ]
  },
  {
   "cell_type": "code",
   "execution_count": 13,
   "metadata": {
    "scrolled": true
   },
   "outputs": [
    {
     "data": {
      "image/png": "[encoded data removed]",
      "text/plain": [
       "<Figure size 432x288 with 1 Axes>"
      ]
     },
     "metadata": {
      "needs_background": "light"
     },
     "output_type": "display_data"
    }
   ],
   "source": [
    "# Create scatter plot\n",
    "plt.scatter(weather_df[\"Latitude\"], weather_df[\"Temperature\"])\n",
    "\n",
    "# Labels\n",
    "plt.title(\"Latitude vs. Temperature on Onctober 23, 2022\")\n",
    "plt.ylabel(\"Temperature (°F)\")\n",
    "plt.xlabel(\"Latitude\")\n",
    "\n",
    "# Save\n",
    "plt.savefig(\"Latitude_Temperature.png\")\n",
    "plt.show()"
   ]
  },
  {
   "cell_type": "markdown",
   "metadata": {},
   "source": [
    "## Latitude vs. Humidity Plot"
   ]
  },
  {
   "cell_type": "code",
   "execution_count": 14,
   "metadata": {},
   "outputs": [
    {
     "data": {
      "image/png": "[encoded data removed]",
      "text/plain": [
       "<Figure size 432x288 with 1 Axes>"
      ]
     },
     "metadata": {
      "needs_background": "light"
     },
     "output_type": "display_data"
    }
   ],
   "source": [
    "# Create scatter plot\n",
    "plt.scatter(weather_df[\"Latitude\"], weather_df[\"Humidity\"])\n",
    "\n",
    "# Labels\n",
    "plt.title(\"Latitude vs. Humidity on Onctober 23, 2022\")\n",
    "plt.ylabel(\"Humidity Percentage\")\n",
    "plt.xlabel(\"Latitude\")\n",
    "\n",
    "# Save\n",
    "plt.savefig(\"Latitude_Humidity.png\")\n",
    "plt.show()"
   ]
  },
  {
   "cell_type": "markdown",
   "metadata": {},
   "source": [
    "## Latitude vs. Cloudiness Plot"
   ]
  },
  {
   "cell_type": "code",
   "execution_count": 15,
   "metadata": {},
   "outputs": [
    {
     "data": {
      "image/png": "[encoded data removed]",
      "text/plain": [
       "<Figure size 432x288 with 1 Axes>"
      ]
     },
     "metadata": {
      "needs_background": "light"
     },
     "output_type": "display_data"
    }
   ],
   "source": [
    "# Create scatter plot\n",
    "plt.scatter(weather_df[\"Latitude\"], weather_df[\"Cloudiness\"])\n",
    "\n",
    "# Labels\n",
    "plt.title(\"Latitude vs. Cloudiness on Onctober 23, 2022\")\n",
    "plt.ylabel(\"Cloudiness\")\n",
    "plt.xlabel(\"Latitude\")\n",
    "\n",
    "# Save\n",
    "plt.savefig(\"Latitude_Cloudiness.png\")\n",
    "plt.show()"
   ]
  },
  {
   "cell_type": "markdown",
   "metadata": {},
   "source": [
    "## Latitude vs. Wind Speed Plot"
   ]
  },
  {
   "cell_type": "code",
   "execution_count": 16,
   "metadata": {
    "scrolled": true
   },
   "outputs": [
    {
     "data": {
      "image/png": "[encoded data removed]",
      "text/plain": [
       "<Figure size 432x288 with 1 Axes>"
      ]
     },
     "metadata": {
      "needs_background": "light"
     },
     "output_type": "display_data"
    }
   ],
   "source": [
    "# Create scatter plot\n",
    "plt.scatter(weather_df[\"Latitude\"], weather_df[\"Wind Speed\"])\n",
    "\n",
    "# Labels\n",
    "plt.title(\"Latitude vs. Wind Speed on Onctober 23, 2022\")\n",
    "plt.ylabel(\"Wind Speed\")\n",
    "plt.xlabel(\"Latitude\")\n",
    "\n",
    "# Save\n",
    "plt.savefig(\"Latitude_Wind_Speed.png\")\n",
    "plt.show()"
   ]
  },
  {
   "cell_type": "markdown",
   "metadata": {},
   "source": [
    "## Linear Regression"
   ]
  },
  {
   "cell_type": "code",
   "execution_count": 17,
   "metadata": {},
   "outputs": [],
   "source": [
    "northern_df = weather_df.loc[weather_df[\"Latitude\"] >= 0]\n",
    "southern_df = weather_df.loc[weather_df[\"Latitude\"] < 0]"
   ]
  },
  {
   "cell_type": "code",
   "execution_count": null,
   "metadata": {},
   "outputs": [],
   "source": []
  },
  {
   "cell_type": "markdown",
   "metadata": {},
   "source": [
    "####  Northern Hemisphere - Max Temp vs. Latitude Linear Regression"
   ]
  },
  {
   "cell_type": "code",
   "execution_count": 35,
   "metadata": {},
   "outputs": [
    {
     "data": {
      "image/png": "[encoded data removed]",
      "text/plain": [
       "<Figure size 432x288 with 1 Axes>"
      ]
     },
     "metadata": {
      "needs_background": "light"
     },
     "output_type": "display_data"
    },
    {
     "data": {
      "text/plain": [
       "<Figure size 432x288 with 0 Axes>"
      ]
     },
     "metadata": {},
     "output_type": "display_data"
    }
   ],
   "source": [
    "x_values = pd.to_numeric(northern_df['Latitude']).astype(float)\n",
    "y_values = pd.to_numeric(northern_df['Max Temp']).astype(float)\n",
    "(slope, intercept, rvalue, pvalue, stderr) = linregress(x_values, y_values)\n",
    "regress_values = x_values * slope + intercept\n",
    "line_eq = \"y = \" + str(round(slope,2)) + \"x + \" + str(round(intercept,2))\n",
    "plt.scatter(x_values,y_values)\n",
    "plt.plot(x_values,regress_values,\"r-\")\n",
    "plt.annotate(line_eq,(6,10),fontsize=15,color=\"red\")\n",
    "plt.xlabel('Latitude')\n",
    "plt.ylabel('Max Temp (F)')\n",
    "plt.title('Northern Hemisphere - Max Temp vs. Latitude Linear Regression 10/23/22')\n",
    "\n",
    "plt.show()\n",
    "\n",
    "plt.savefig(\"Northern_Max_Temp.png\")"
   ]
  },
  {
   "cell_type": "markdown",
   "metadata": {},
   "source": [
    "####  Southern Hemisphere - Max Temp vs. Latitude Linear Regression"
   ]
  },
  {
   "cell_type": "code",
   "execution_count": 36,
   "metadata": {},
   "outputs": [
    {
     "data": {
      "image/png": "[encoded data removed]",
      "text/plain": [
       "<Figure size 432x288 with 1 Axes>"
      ]
     },
     "metadata": {
      "needs_background": "light"
     },
     "output_type": "display_data"
    },
    {
     "data": {
      "text/plain": [
       "<Figure size 432x288 with 0 Axes>"
      ]
     },
     "metadata": {},
     "output_type": "display_data"
    }
   ],
   "source": [
    "x_values = pd.to_numeric(southern_df['Latitude']).astype(float)\n",
    "y_values = pd.to_numeric(southern_df['Max Temp']).astype(float)\n",
    "(slope, intercept, rvalue, pvalue, stderr) = linregress(x_values, y_values)\n",
    "regress_values = x_values * slope + intercept\n",
    "line_eq = \"y = \" + str(round(slope,2)) + \"x + \" + str(round(intercept,2))\n",
    "plt.scatter(x_values,y_values)\n",
    "plt.plot(x_values,regress_values,\"r-\")\n",
    "plt.annotate(line_eq,(6,10),fontsize=15,color=\"red\")\n",
    "plt.xlabel('Latitude')\n",
    "plt.ylabel('Max Temp (F)')\n",
    "plt.title('Southern Hemisphere - Max Temp vs. Latitude Linear Regression 10/23/22')\n",
    "\n",
    "plt.show()\n",
    "\n",
    "plt.savefig(\"Southern_Max_Temp.png\")\n"
   ]
  },
  {
   "cell_type": "markdown",
   "metadata": {},
   "source": [
    "####  Northern Hemisphere - Humidity (%) vs. Latitude Linear Regression"
   ]
  },
  {
   "cell_type": "code",
   "execution_count": 37,
   "metadata": {},
   "outputs": [
    {
     "data": {
      "image/png": "[encoded data removed]",
      "text/plain": [
       "<Figure size 432x288 with 1 Axes>"
      ]
     },
     "metadata": {
      "needs_background": "light"
     },
     "output_type": "display_data"
    },
    {
     "data": {
      "text/plain": [
       "<Figure size 432x288 with 0 Axes>"
      ]
     },
     "metadata": {},
     "output_type": "display_data"
    }
   ],
   "source": [
    "x_values = pd.to_numeric(northern_df['Latitude']).astype(float)\n",
    "y_values = pd.to_numeric(northern_df['Humidity']).astype(float)\n",
    "(slope, intercept, rvalue, pvalue, stderr) = linregress(x_values, y_values)\n",
    "regress_values = x_values * slope + intercept\n",
    "line_eq = \"y = \" + str(round(slope,2)) + \"x + \" + str(round(intercept,2))\n",
    "plt.scatter(x_values,y_values)\n",
    "plt.plot(x_values,regress_values,\"r-\")\n",
    "plt.annotate(line_eq,(6,10),fontsize=15,color=\"red\")\n",
    "plt.xlabel('Latitude')\n",
    "plt.ylabel('Humidity %')\n",
    "plt.title('Northern Hemisphere - Humidity vs. Latitude Linear Regression 10/23/22')\n",
    "\n",
    "plt.show()\n",
    "\n",
    "plt.savefig(\"Northern_Humidity.png\")"
   ]
  },
  {
   "cell_type": "markdown",
   "metadata": {},
   "source": [
    "####  Southern Hemisphere - Humidity (%) vs. Latitude Linear Regression"
   ]
  },
  {
   "cell_type": "code",
   "execution_count": 38,
   "metadata": {},
   "outputs": [
    {
     "data": {
      "image/png": "[encoded data removed]",
      "text/plain": [
       "<Figure size 432x288 with 1 Axes>"
      ]
     },
     "metadata": {
      "needs_background": "light"
     },
     "output_type": "display_data"
    },
    {
     "data": {
      "text/plain": [
       "<Figure size 432x288 with 0 Axes>"
      ]
     },
     "metadata": {},
     "output_type": "display_data"
    }
   ],
   "source": [
    "x_values = pd.to_numeric(southern_df['Latitude']).astype(float)\n",
    "y_values = pd.to_numeric(southern_df['Humidity']).astype(float)\n",
    "(slope, intercept, rvalue, pvalue, stderr) = linregress(x_values, y_values)\n",
    "regress_values = x_values * slope + intercept\n",
    "line_eq = \"y = \" + str(round(slope,2)) + \"x + \" + str(round(intercept,2))\n",
    "plt.scatter(x_values,y_values)\n",
    "plt.plot(x_values,regress_values,\"r-\")\n",
    "plt.annotate(line_eq,(6,10),fontsize=15,color=\"red\")\n",
    "plt.xlabel('Latitude')\n",
    "plt.ylabel('Humidity %')\n",
    "plt.title('Southern Hemisphere - Humidity vs. Latitude Linear Regression 10/23/22')\n",
    "\n",
    "plt.show()\n",
    "\n",
    "plt.savefig(\"Southern_Humidity.png\")"
   ]
  },
  {
   "cell_type": "markdown",
   "metadata": {},
   "source": [
    "####  Northern Hemisphere - Cloudiness (%) vs. Latitude Linear Regression"
   ]
  },
  {
   "cell_type": "code",
   "execution_count": 39,
   "metadata": {},
   "outputs": [
    {
     "data": {
      "image/png": "[encoded data removed]",
      "text/plain": [
       "<Figure size 432x288 with 1 Axes>"
      ]
     },
     "metadata": {
      "needs_background": "light"
     },
     "output_type": "display_data"
    },
    {
     "data": {
      "text/plain": [
       "<Figure size 432x288 with 0 Axes>"
      ]
     },
     "metadata": {},
     "output_type": "display_data"
    }
   ],
   "source": [
    "x_values = pd.to_numeric(northern_df['Latitude']).astype(float)\n",
    "y_values = pd.to_numeric(northern_df['Cloudiness']).astype(float)\n",
    "(slope, intercept, rvalue, pvalue, stderr) = linregress(x_values, y_values)\n",
    "regress_values = x_values * slope + intercept\n",
    "line_eq = \"y = \" + str(round(slope,2)) + \"x + \" + str(round(intercept,2))\n",
    "plt.scatter(x_values,y_values)\n",
    "plt.plot(x_values,regress_values,\"r-\")\n",
    "plt.annotate(line_eq,(6,10),fontsize=15,color=\"red\")\n",
    "plt.xlabel('Latitude')\n",
    "plt.ylabel('Cloudiness')\n",
    "plt.title('Northern Hemisphere - Cloudiness vs. Latitude Linear Regression 10/23/22')\n",
    "\n",
    "plt.show()\n",
    "\n",
    "plt.savefig(\"Northern_Cloudiness.png\")"
   ]
  },
  {
   "cell_type": "markdown",
   "metadata": {},
   "source": [
    "####  Southern Hemisphere - Cloudiness (%) vs. Latitude Linear Regression"
   ]
  },
  {
   "cell_type": "code",
   "execution_count": 41,
   "metadata": {},
   "outputs": [
    {
     "data": {
      "image/png": "[encoded data removed]",
      "text/plain": [
       "<Figure size 432x288 with 1 Axes>"
      ]
     },
     "metadata": {
      "needs_background": "light"
     },
     "output_type": "display_data"
    },
    {
     "data": {
      "text/plain": [
       "<Figure size 432x288 with 0 Axes>"
      ]
     },
     "metadata": {},
     "output_type": "display_data"
    }
   ],
   "source": [
    "x_values = pd.to_numeric(southern_df['Latitude']).astype(float)\n",
    "y_values = pd.to_numeric(southern_df['Cloudiness']).astype(float)\n",
    "(slope, intercept, rvalue, pvalue, stderr) = linregress(x_values, y_values)\n",
    "regress_values = x_values * slope + intercept\n",
    "line_eq = \"y = \" + str(round(slope,2)) + \"x + \" + str(round(intercept,2))\n",
    "plt.scatter(x_values,y_values)\n",
    "plt.plot(x_values,regress_values,\"r-\")\n",
    "plt.annotate(line_eq,(6,10),fontsize=15,color=\"red\")\n",
    "plt.xlabel('Latitude')\n",
    "plt.ylabel('Cloudiness')\n",
    "plt.title('Southern Hemisphere - Cloudiness vs. Latitude Linear Regression 10/23/22')\n",
    "\n",
    "plt.show()\n",
    "\n",
    "plt.savefig(\"Southern_Cloudiness.png\")"
   ]
  },
  {
   "cell_type": "markdown",
   "metadata": {},
   "source": [
    "####  Northern Hemisphere - Wind Speed (mph) vs. Latitude Linear Regression"
   ]
  },
  {
   "cell_type": "code",
   "execution_count": 44,
   "metadata": {},
   "outputs": [
    {
     "data": {
      "image/png": "[encoded data removed]",
      "text/plain": [
       "<Figure size 432x288 with 1 Axes>"
      ]
     },
     "metadata": {
      "needs_background": "light"
     },
     "output_type": "display_data"
    },
    {
     "data": {
      "text/plain": [
       "<Figure size 432x288 with 0 Axes>"
      ]
     },
     "metadata": {},
     "output_type": "display_data"
    }
   ],
   "source": [
    "x_values = pd.to_numeric(northern_df['Latitude']).astype(float)\n",
    "y_values = pd.to_numeric(northern_df['Wind Speed']).astype(float)\n",
    "(slope, intercept, rvalue, pvalue, stderr) = linregress(x_values, y_values)\n",
    "regress_values = x_values * slope + intercept\n",
    "line_eq = \"y = \" + str(round(slope,2)) + \"x + \" + str(round(intercept,2))\n",
    "plt.scatter(x_values,y_values)\n",
    "plt.plot(x_values,regress_values,\"r-\")\n",
    "plt.annotate(line_eq,(6,10),fontsize=15,color=\"red\")\n",
    "plt.xlabel('Latitude')\n",
    "plt.ylabel('Wind Speed')\n",
    "plt.title('Northern Hemisphere - Wind Speed vs. Latitude Linear Regression 10/23/22')\n",
    "\n",
    "plt.show()\n",
    "\n",
    "plt.savefig(\"Northern_Wind_Speed.png\")"
   ]
  },
  {
   "cell_type": "markdown",
   "metadata": {},
   "source": [
    "####  Southern Hemisphere - Wind Speed (mph) vs. Latitude Linear Regression"
   ]
  },
  {
   "cell_type": "code",
   "execution_count": 45,
   "metadata": {},
   "outputs": [
    {
     "data": {
      "image/png": "[encoded data removed]",
      "text/plain": [
       "<Figure size 432x288 with 1 Axes>"
      ]
     },
     "metadata": {
      "needs_background": "light"
     },
     "output_type": "display_data"
    },
    {
     "data": {
      "text/plain": [
       "<Figure size 432x288 with 0 Axes>"
      ]
     },
     "metadata": {},
     "output_type": "display_data"
    }
   ],
   "source": [
    "x_values = pd.to_numeric(southern_df['Latitude']).astype(float)\n",
    "y_values = pd.to_numeric(southern_df['Wind Speed']).astype(float)\n",
    "(slope, intercept, rvalue, pvalue, stderr) = linregress(x_values, y_values)\n",
    "regress_values = x_values * slope + intercept\n",
    "line_eq = \"y = \" + str(round(slope,2)) + \"x + \" + str(round(intercept,2))\n",
    "plt.scatter(x_values,y_values)\n",
    "plt.plot(x_values,regress_values,\"r-\")\n",
    "plt.annotate(line_eq,(6,10),fontsize=15,color=\"red\")\n",
    "plt.xlabel('Latitude')\n",
    "plt.ylabel('Wind Speed')\n",
    "plt.title('Southern Hemisphere - Wind Speed vs. Latitude Linear Regression 10/23/22')\n",
    "\n",
    "plt.show()\n",
    "\n",
    "plt.savefig(\"Southern_Wind_Speed.png\")"
   ]
  },
  {
   "cell_type": "code",
   "execution_count": null,
   "metadata": {},
   "outputs": [],
   "source": []
  }
 ],
 "metadata": {
  "anaconda-cloud": {},
  "kernel_info": {
   "name": "python3"
  },
  "kernelspec": {
   "display_name": "PythonData",
   "language": "python",
   "name": "pythondata"
  },
  "language_info": {
   "codemirror_mode": {
    "name": "ipython",
    "version": 3
   },
   "file_extension": ".py",
   "mimetype": "text/x-python",
   "name": "python",
   "nbconvert_exporter": "python",
   "pygments_lexer": "ipython3",
   "version": "3.7.7"
  },
  "latex_envs": {
   "LaTeX_envs_menu_present": true,
   "autoclose": false,
   "autocomplete": true,
   "bibliofile": "biblio.bib",
   "cite_by": "apalike",
   "current_citInitial": 1,
   "eqLabelWithNumbers": true,
   "eqNumInitial": 1,
   "hotkeys": {
    "equation": "Ctrl-E",
    "itemize": "Ctrl-I"
   },
   "labels_anchors": false,
   "latex_user_defs": false,
   "report_style_numbering": false,
   "user_envs_cfg": false
  },
  "nteract": {
   "version": "0.12.3"
  }
 },
 "nbformat": 4,
 "nbformat_minor": 2
}
